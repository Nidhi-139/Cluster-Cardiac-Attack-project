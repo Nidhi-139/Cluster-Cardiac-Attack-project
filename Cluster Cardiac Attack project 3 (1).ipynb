{
 "cells": [
  {
   "cell_type": "code",
   "execution_count": 1,
   "id": "fc0d7f6f",
   "metadata": {},
   "outputs": [],
   "source": [
    "import pandas as pd"
   ]
  },
  {
   "cell_type": "code",
   "execution_count": 7,
   "id": "c9174e69",
   "metadata": {},
   "outputs": [],
   "source": [
    "data=pd.read_csv(\"C:\\ML Project Clustering Cardiac Arrest.csv\")"
   ]
  },
  {
   "cell_type": "code",
   "execution_count": 8,
   "id": "18be919f",
   "metadata": {},
   "outputs": [
    {
     "data": {
      "text/html": [
       "<div>\n",
       "<style scoped>\n",
       "    .dataframe tbody tr th:only-of-type {\n",
       "        vertical-align: middle;\n",
       "    }\n",
       "\n",
       "    .dataframe tbody tr th {\n",
       "        vertical-align: top;\n",
       "    }\n",
       "\n",
       "    .dataframe thead th {\n",
       "        text-align: right;\n",
       "    }\n",
       "</style>\n",
       "<table border=\"1\" class=\"dataframe\">\n",
       "  <thead>\n",
       "    <tr style=\"text-align: right;\">\n",
       "      <th></th>\n",
       "      <th>Gender</th>\n",
       "      <th>Chain_smoker</th>\n",
       "      <th>Consumes_other_tobacco_products</th>\n",
       "      <th>HighBP</th>\n",
       "      <th>Obese</th>\n",
       "      <th>Diabetes</th>\n",
       "      <th>Metabolic_syndrome</th>\n",
       "      <th>Use_of_stimulant_drugs</th>\n",
       "      <th>Family_history</th>\n",
       "      <th>History_of_preeclampsia</th>\n",
       "      <th>CABG_history</th>\n",
       "      <th>Respiratory_illness</th>\n",
       "      <th>UnderRisk</th>\n",
       "    </tr>\n",
       "  </thead>\n",
       "  <tbody>\n",
       "    <tr>\n",
       "      <th>0</th>\n",
       "      <td>1</td>\n",
       "      <td>1</td>\n",
       "      <td>1</td>\n",
       "      <td>0</td>\n",
       "      <td>1</td>\n",
       "      <td>0</td>\n",
       "      <td>0</td>\n",
       "      <td>0</td>\n",
       "      <td>1</td>\n",
       "      <td>0</td>\n",
       "      <td>0</td>\n",
       "      <td>0</td>\n",
       "      <td>no</td>\n",
       "    </tr>\n",
       "    <tr>\n",
       "      <th>1</th>\n",
       "      <td>1</td>\n",
       "      <td>0</td>\n",
       "      <td>1</td>\n",
       "      <td>0</td>\n",
       "      <td>1</td>\n",
       "      <td>0</td>\n",
       "      <td>0</td>\n",
       "      <td>0</td>\n",
       "      <td>1</td>\n",
       "      <td>0</td>\n",
       "      <td>0</td>\n",
       "      <td>0</td>\n",
       "      <td>no</td>\n",
       "    </tr>\n",
       "    <tr>\n",
       "      <th>2</th>\n",
       "      <td>1</td>\n",
       "      <td>0</td>\n",
       "      <td>1</td>\n",
       "      <td>0</td>\n",
       "      <td>1</td>\n",
       "      <td>0</td>\n",
       "      <td>0</td>\n",
       "      <td>0</td>\n",
       "      <td>1</td>\n",
       "      <td>0</td>\n",
       "      <td>0</td>\n",
       "      <td>0</td>\n",
       "      <td>no</td>\n",
       "    </tr>\n",
       "    <tr>\n",
       "      <th>3</th>\n",
       "      <td>1</td>\n",
       "      <td>0</td>\n",
       "      <td>1</td>\n",
       "      <td>0</td>\n",
       "      <td>1</td>\n",
       "      <td>0</td>\n",
       "      <td>0</td>\n",
       "      <td>0</td>\n",
       "      <td>1</td>\n",
       "      <td>0</td>\n",
       "      <td>0</td>\n",
       "      <td>0</td>\n",
       "      <td>no</td>\n",
       "    </tr>\n",
       "    <tr>\n",
       "      <th>4</th>\n",
       "      <td>1</td>\n",
       "      <td>0</td>\n",
       "      <td>0</td>\n",
       "      <td>0</td>\n",
       "      <td>0</td>\n",
       "      <td>0</td>\n",
       "      <td>1</td>\n",
       "      <td>1</td>\n",
       "      <td>0</td>\n",
       "      <td>0</td>\n",
       "      <td>0</td>\n",
       "      <td>0</td>\n",
       "      <td>no</td>\n",
       "    </tr>\n",
       "  </tbody>\n",
       "</table>\n",
       "</div>"
      ],
      "text/plain": [
       "   Gender  Chain_smoker  Consumes_other_tobacco_products  HighBP  Obese  \\\n",
       "0       1             1                                1       0      1   \n",
       "1       1             0                                1       0      1   \n",
       "2       1             0                                1       0      1   \n",
       "3       1             0                                1       0      1   \n",
       "4       1             0                                0       0      0   \n",
       "\n",
       "   Diabetes  Metabolic_syndrome  Use_of_stimulant_drugs  Family_history  \\\n",
       "0         0                   0                       0               1   \n",
       "1         0                   0                       0               1   \n",
       "2         0                   0                       0               1   \n",
       "3         0                   0                       0               1   \n",
       "4         0                   1                       1               0   \n",
       "\n",
       "   History_of_preeclampsia  CABG_history  Respiratory_illness UnderRisk  \n",
       "0                        0             0                    0        no  \n",
       "1                        0             0                    0        no  \n",
       "2                        0             0                    0        no  \n",
       "3                        0             0                    0        no  \n",
       "4                        0             0                    0        no  "
      ]
     },
     "execution_count": 8,
     "metadata": {},
     "output_type": "execute_result"
    }
   ],
   "source": [
    "data.head()\n"
   ]
  },
  {
   "cell_type": "code",
   "execution_count": 9,
   "id": "a5a640e8",
   "metadata": {},
   "outputs": [
    {
     "data": {
      "text/plain": [
       "Gender                             0\n",
       "Chain_smoker                       0\n",
       "Consumes_other_tobacco_products    0\n",
       "HighBP                             0\n",
       "Obese                              0\n",
       "Diabetes                           0\n",
       "Metabolic_syndrome                 0\n",
       "Use_of_stimulant_drugs             0\n",
       "Family_history                     0\n",
       "History_of_preeclampsia            0\n",
       "CABG_history                       0\n",
       "Respiratory_illness                0\n",
       "UnderRisk                          0\n",
       "dtype: int64"
      ]
     },
     "execution_count": 9,
     "metadata": {},
     "output_type": "execute_result"
    }
   ],
   "source": [
    "data.isnull().sum()"
   ]
  },
  {
   "cell_type": "code",
   "execution_count": 10,
   "id": "468f4cb8",
   "metadata": {
    "scrolled": true
   },
   "outputs": [
    {
     "name": "stdout",
     "output_type": "stream",
     "text": [
      "<class 'pandas.core.frame.DataFrame'>\n",
      "RangeIndex: 889 entries, 0 to 888\n",
      "Data columns (total 13 columns):\n",
      " #   Column                           Non-Null Count  Dtype \n",
      "---  ------                           --------------  ----- \n",
      " 0   Gender                           889 non-null    int64 \n",
      " 1   Chain_smoker                     889 non-null    int64 \n",
      " 2   Consumes_other_tobacco_products  889 non-null    int64 \n",
      " 3   HighBP                           889 non-null    int64 \n",
      " 4   Obese                            889 non-null    int64 \n",
      " 5   Diabetes                         889 non-null    int64 \n",
      " 6   Metabolic_syndrome               889 non-null    int64 \n",
      " 7   Use_of_stimulant_drugs           889 non-null    int64 \n",
      " 8   Family_history                   889 non-null    int64 \n",
      " 9   History_of_preeclampsia          889 non-null    int64 \n",
      " 10  CABG_history                     889 non-null    int64 \n",
      " 11  Respiratory_illness              889 non-null    int64 \n",
      " 12  UnderRisk                        889 non-null    object\n",
      "dtypes: int64(12), object(1)\n",
      "memory usage: 90.4+ KB\n"
     ]
    }
   ],
   "source": [
    "data.info()"
   ]
  },
  {
   "cell_type": "code",
   "execution_count": 13,
   "id": "0d05055e",
   "metadata": {},
   "outputs": [],
   "source": [
    "discription=data.describe()"
   ]
  },
  {
   "cell_type": "code",
   "execution_count": 15,
   "id": "82f01b36",
   "metadata": {},
   "outputs": [],
   "source": [
    "print=(discription)"
   ]
  },
  {
   "cell_type": "code",
   "execution_count": null,
   "id": "efa3d426",
   "metadata": {},
   "outputs": [],
   "source": []
  }
 ],
 "metadata": {
  "kernelspec": {
   "display_name": "Python 3 (ipykernel)",
   "language": "python",
   "name": "python3"
  },
  "language_info": {
   "codemirror_mode": {
    "name": "ipython",
    "version": 3
   },
   "file_extension": ".py",
   "mimetype": "text/x-python",
   "name": "python",
   "nbconvert_exporter": "python",
   "pygments_lexer": "ipython3",
   "version": "3.11.5"
  }
 },
 "nbformat": 4,
 "nbformat_minor": 5
}
